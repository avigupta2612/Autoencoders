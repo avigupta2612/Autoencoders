{
 "cells": [
  {
   "cell_type": "markdown",
   "metadata": {},
   "source": [
    "# Linear Autoencoder\n",
    "\n",
    "<img src='simple_autoencoder.png' width=50% />\n"
   ]
  },
  {
   "cell_type": "code",
   "execution_count": 1,
   "metadata": {},
   "outputs": [],
   "source": [
    "import torch\n",
    "from torchvision import datasets,transforms\n",
    "import matplotlib.pyplot as plt\n",
    "import numpy as np\n",
    "%matplotlib inline"
   ]
  },
  {
   "cell_type": "markdown",
   "metadata": {},
   "source": [
    "## Loading MNIST dataset"
   ]
  },
  {
   "cell_type": "code",
   "execution_count": 2,
   "metadata": {},
   "outputs": [
    {
     "name": "stderr",
     "output_type": "stream",
     "text": [
      "\r",
      "0it [00:00, ?it/s]"
     ]
    },
    {
     "name": "stdout",
     "output_type": "stream",
     "text": [
      "Downloading http://yann.lecun.com/exdb/mnist/train-images-idx3-ubyte.gz to data\\MNIST\\raw\\train-images-idx3-ubyte.gz\n"
     ]
    },
    {
     "name": "stderr",
     "output_type": "stream",
     "text": [
      "9920512it [00:09, 1003616.14it/s]                                                                                      \n"
     ]
    },
    {
     "name": "stdout",
     "output_type": "stream",
     "text": [
      "Extracting data\\MNIST\\raw\\train-images-idx3-ubyte.gz to data\\MNIST\\raw\n"
     ]
    },
    {
     "name": "stderr",
     "output_type": "stream",
     "text": [
      "\r",
      "0it [00:00, ?it/s]"
     ]
    },
    {
     "name": "stdout",
     "output_type": "stream",
     "text": [
      "Downloading http://yann.lecun.com/exdb/mnist/train-labels-idx1-ubyte.gz to data\\MNIST\\raw\\train-labels-idx1-ubyte.gz\n"
     ]
    },
    {
     "name": "stderr",
     "output_type": "stream",
     "text": [
      "32768it [00:00, 35869.66it/s]                                                                                          \n",
      "0it [00:00, ?it/s]"
     ]
    },
    {
     "name": "stdout",
     "output_type": "stream",
     "text": [
      "Extracting data\\MNIST\\raw\\train-labels-idx1-ubyte.gz to data\\MNIST\\raw\n",
      "Downloading http://yann.lecun.com/exdb/mnist/t10k-images-idx3-ubyte.gz to data\\MNIST\\raw\\t10k-images-idx3-ubyte.gz\n"
     ]
    },
    {
     "name": "stderr",
     "output_type": "stream",
     "text": [
      "1654784it [00:03, 509093.76it/s]                                                                                       \n",
      "0it [00:00, ?it/s]"
     ]
    },
    {
     "name": "stdout",
     "output_type": "stream",
     "text": [
      "Extracting data\\MNIST\\raw\\t10k-images-idx3-ubyte.gz to data\\MNIST\\raw\n",
      "Downloading http://yann.lecun.com/exdb/mnist/t10k-labels-idx1-ubyte.gz to data\\MNIST\\raw\\t10k-labels-idx1-ubyte.gz\n"
     ]
    },
    {
     "name": "stderr",
     "output_type": "stream",
     "text": [
      "8192it [00:00, 10872.82it/s]                                                                                           \n"
     ]
    },
    {
     "name": "stdout",
     "output_type": "stream",
     "text": [
      "Extracting data\\MNIST\\raw\\t10k-labels-idx1-ubyte.gz to data\\MNIST\\raw\n",
      "Processing...\n",
      "Done!\n"
     ]
    }
   ],
   "source": [
    "transform = transforms.ToTensor()\n",
    "\n",
    "train_data= datasets.MNIST(root= 'data', train=True, download=True, transform=transform)\n",
    "test_data= datasets.MNIST(root= 'data', train=False, download=True, transform=transform)\n",
    "batch_size= 20\n",
    "\n",
    "train_loader= torch.utils.data.DataLoader(train_data, shuffle=True, batch_size=batch_size)\n",
    "test_loader= torch.utils.data.DataLoader(test_data, shuffle=False, batch_size=batch_size)"
   ]
  },
  {
   "cell_type": "code",
   "execution_count": 3,
   "metadata": {},
   "outputs": [
    {
     "data": {
      "text/plain": [
       "<matplotlib.image.AxesImage at 0x13fd5d9cec8>"
      ]
     },
     "execution_count": 3,
     "metadata": {},
     "output_type": "execute_result"
    },
    {
     "data": {
      "image/png": "[encoded data removed]",
      "text/plain": [
       "<Figure size 360x360 with 1 Axes>"
      ]
     },
     "metadata": {
      "needs_background": "light"
     },
     "output_type": "display_data"
    }
   ],
   "source": [
    "import matplotlib.pyplot as plt\n",
    "%matplotlib inline\n",
    "    \n",
    "dataiter = iter(train_loader)\n",
    "images, labels = dataiter.next()\n",
    "images = images.numpy()\n",
    "img = np.squeeze(images[0])\n",
    "\n",
    "fig = plt.figure(figsize = (5,5)) \n",
    "ax = fig.add_subplot(111)\n",
    "ax.imshow(img, cmap='gray')"
   ]
  },
  {
   "cell_type": "markdown",
   "metadata": {},
   "source": [
    "## Building the autoencoder using linear layers\n",
    "The input image will be compressed from 784 nodes to 32 nodes using the encoder linear layer. It will converted back to 784 nodes using decoder linear layer"
   ]
  },
  {
   "cell_type": "code",
   "execution_count": 17,
   "metadata": {},
   "outputs": [
    {
     "name": "stdout",
     "output_type": "stream",
     "text": [
      "LinearAutoencoder(\n",
      "  (encoder): Linear(in_features=784, out_features=32, bias=True)\n",
      "  (decoder): Linear(in_features=32, out_features=784, bias=True)\n",
      ")\n"
     ]
    }
   ],
   "source": [
    "import torch.nn as nn\n",
    "import torch.nn.functional as F\n",
    "\n",
    "class LinearAutoencoder(nn.Module):\n",
    "    def __init__(self, encoding_dims):\n",
    "        super(LinearAutoencoder, self).__init__()\n",
    "        self.encoder= nn.Linear(28*28, encoding_dims)\n",
    "        self.decoder= nn.Linear(encoding_dims, 28*28)\n",
    "    def forward(self,x):\n",
    "        x= F.relu(self.encoder(x))\n",
    "        x= F.sigmoid(self.decoder(x))\n",
    "        return x\n",
    "encoding_dims= 32\n",
    "model= LinearAutoencoder(encoding_dims)\n",
    "print(model)"
   ]
  },
  {
   "cell_type": "code",
   "execution_count": 18,
   "metadata": {},
   "outputs": [],
   "source": [
    "criterion= nn.MSELoss()\n",
    "\n",
    "optimizer= torch.optim.Adam(model.parameters(), lr= 0.001)"
   ]
  },
  {
   "cell_type": "markdown",
   "metadata": {},
   "source": [
    "## Training"
   ]
  },
  {
   "cell_type": "code",
   "execution_count": 19,
   "metadata": {},
   "outputs": [
    {
     "name": "stdout",
     "output_type": "stream",
     "text": [
      "Epoch: 1 \tTrain loss: 0.628503\n",
      "Epoch: 2 \tTrain loss: 0.327007\n",
      "Epoch: 3 \tTrain loss: 0.302175\n",
      "Epoch: 4 \tTrain loss: 0.295252\n",
      "Epoch: 5 \tTrain loss: 0.291570\n",
      "Epoch: 6 \tTrain loss: 0.289539\n",
      "Epoch: 7 \tTrain loss: 0.288198\n",
      "Epoch: 8 \tTrain loss: 0.287444\n",
      "Epoch: 9 \tTrain loss: 0.286759\n",
      "Epoch: 10 \tTrain loss: 0.286177\n",
      "Epoch: 11 \tTrain loss: 0.285471\n",
      "Epoch: 12 \tTrain loss: 0.285026\n",
      "Epoch: 13 \tTrain loss: 0.284404\n",
      "Epoch: 14 \tTrain loss: 0.284071\n",
      "Epoch: 15 \tTrain loss: 0.283551\n",
      "Epoch: 16 \tTrain loss: 0.283115\n",
      "Epoch: 17 \tTrain loss: 0.282810\n",
      "Epoch: 18 \tTrain loss: 0.282360\n",
      "Epoch: 19 \tTrain loss: 0.282017\n",
      "Epoch: 20 \tTrain loss: 0.281680\n"
     ]
    }
   ],
   "source": [
    "epochs= 20\n",
    "for epoch in range(epochs):\n",
    "    train_loss= 0.0\n",
    "    for data in train_loader:\n",
    "        images, _= data\n",
    "        images= images.view(-1, 28*28)\n",
    "        optimizer.zero_grad()\n",
    "        output= model(images)\n",
    "        loss= criterion(output, images)\n",
    "        loss.backward()\n",
    "        optimizer.step()\n",
    "        train_loss+= loss.item()*images.size(0)\n",
    "    train_loss= train_loss/ len(train_loader)\n",
    "    print(\"Epoch: {} \\tTrain loss: {:.6f}\".format(epoch+1, train_loss))"
   ]
  },
  {
   "cell_type": "markdown",
   "metadata": {},
   "source": [
    "## Testing and Visualizing generated images"
   ]
  },
  {
   "cell_type": "code",
   "execution_count": 24,
   "metadata": {},
   "outputs": [
    {
     "data": {
      "image/png": "[encoded data removed]",
      "text/plain": [
       "<Figure size 1800x288 with 20 Axes>"
      ]
     },
     "metadata": {
      "needs_background": "light"
     },
     "output_type": "display_data"
    }
   ],
   "source": [
    "# obtain one batch of test images\n",
    "dataiter = iter(test_loader)\n",
    "images, labels = dataiter.next()\n",
    "images_flatten= images.view(-1, 784)\n",
    "output= model(images_flatten)\n",
    "images= images.numpy()\n",
    "output= output.view(batch_size, 1, 28,28)\n",
    "output = output.detach().numpy()\n",
    "\n",
    "fig, axes = plt.subplots(nrows=2, ncols=10, sharex=True, sharey=True, figsize=(25,4))\n",
    "for images, row in zip([images, output], axes):\n",
    "    for img, ax in zip(images, row):\n",
    "        ax.imshow(np.squeeze(img), cmap='gray')\n",
    "        ax.get_xaxis().set_visible(False)\n",
    "        ax.get_yaxis().set_visible(False)\n"
   ]
  }
 ],
 "metadata": {
  "kernelspec": {
   "display_name": "Python 3",
   "language": "python",
   "name": "python3"
  },
  "language_info": {
   "codemirror_mode": {
    "name": "ipython",
    "version": 3
   },
   "file_extension": ".py",
   "mimetype": "text/x-python",
   "name": "python",
   "nbconvert_exporter": "python",
   "pygments_lexer": "ipython3",
   "version": "3.7.4"
  }
 },
 "nbformat": 4,
 "nbformat_minor": 4
}
