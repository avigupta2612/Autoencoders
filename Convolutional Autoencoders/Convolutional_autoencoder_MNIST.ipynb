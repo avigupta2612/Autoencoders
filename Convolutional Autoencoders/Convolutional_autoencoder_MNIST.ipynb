{
 "cells": [
  {
   "cell_type": "code",
   "execution_count": 1,
   "metadata": {},
   "outputs": [],
   "source": [
    "import torch\n",
    "from torchvision import datasets, transforms\n",
    "import matplotlib.pyplot as plt\n",
    "import numpy as np\n",
    "%matplotlib inline"
   ]
  },
  {
   "cell_type": "markdown",
   "metadata": {},
   "source": [
    "## Loading MNIST dataset"
   ]
  },
  {
   "cell_type": "code",
   "execution_count": 2,
   "metadata": {},
   "outputs": [],
   "source": [
    "transform = transforms.ToTensor()\n",
    "train_data= datasets.MNIST(root='data', download= True, train= True, transform= transform)\n",
    "test_data= datasets.MNIST(root='data', download= True, train= False, transform= transform)\n",
    "batch_size= 20\n",
    "train_loader= torch.utils.data.DataLoader(train_data, batch_size= batch_size)\n",
    "test_loader= torch.utils.data.DataLoader(test_data, batch_size= batch_size)"
   ]
  },
  {
   "cell_type": "code",
   "execution_count": 3,
   "metadata": {},
   "outputs": [
    {
     "data": {
      "text/plain": [
       "<matplotlib.image.AxesImage at 0x19f65850248>"
      ]
     },
     "execution_count": 3,
     "metadata": {},
     "output_type": "execute_result"
    },
    {
     "data": {
      "image/png": "[encoded data removed]",
      "text/plain": [
       "<Figure size 432x288 with 1 Axes>"
      ]
     },
     "metadata": {
      "needs_background": "light"
     },
     "output_type": "display_data"
    }
   ],
   "source": [
    "dataiter= iter(train_loader)\n",
    "images, _= dataiter.next()\n",
    "images= images.numpy().squeeze()\n",
    "plt.imshow(images[0], cmap='gray')"
   ]
  },
  {
   "cell_type": "markdown",
   "metadata": {},
   "source": [
    "## Convolutional Autoencoder using transpose convolutional layers\n",
    "__Encoder__\n",
    "In convolutional autoencoder we encode images using convolutional and pooling layers to compress the images. Here I used 2 convolutional layers to compress the input images from (1,28,28) to (4, 7, 7).\n",
    "\n",
    "__Decoder__ \n",
    "The compressed output can be decoded using transpose Convolutional layers with a kernal size of (2,2) and a stride of greater than 1. These layers will increase the height and width of input images. "
   ]
  },
  {
   "cell_type": "code",
   "execution_count": 5,
   "metadata": {},
   "outputs": [],
   "source": [
    "import torch.nn as nn\n",
    "import torch.nn.functional as f"
   ]
  },
  {
   "cell_type": "code",
   "execution_count": 7,
   "metadata": {},
   "outputs": [
    {
     "name": "stdout",
     "output_type": "stream",
     "text": [
      "ConvAutoencoder(\n",
      "  (conv1): Conv2d(1, 16, kernel_size=(3, 3), stride=(1, 1), padding=(1, 1))\n",
      "  (conv2): Conv2d(16, 4, kernel_size=(3, 3), stride=(1, 1), padding=(1, 1))\n",
      "  (pool): MaxPool2d(kernel_size=2, stride=2, padding=0, dilation=1, ceil_mode=False)\n",
      "  (tconv1): ConvTranspose2d(4, 16, kernel_size=(2, 2), stride=(2, 2))\n",
      "  (tconv2): ConvTranspose2d(16, 1, kernel_size=(2, 2), stride=(2, 2))\n",
      ")\n"
     ]
    }
   ],
   "source": [
    "class ConvAutoencoder(nn.Module):\n",
    "    def __init__(self):\n",
    "        super(ConvAutoencoder,self).__init__()\n",
    "        self.conv1= nn.Conv2d(1, 16, 3, padding=1)\n",
    "        self.conv2= nn.Conv2d(16, 4, 3, padding=1)\n",
    "        self.pool= nn.MaxPool2d(2,2)\n",
    "        self.tconv1= nn.ConvTranspose2d(4, 16, 2, stride=2)\n",
    "        self.tconv2= nn.ConvTranspose2d(16, 1, 2, stride= 2)\n",
    "    def forward(self,x):\n",
    "        # Encoder\n",
    "        x= self.pool(f.relu(self.conv1(x)))\n",
    "        x= self.pool(f.relu(self.conv2(x)))\n",
    "        #Decoder\n",
    "        x= f.relu(self.tconv1(x))\n",
    "        x= f.sigmoid(self.tconv2(x))\n",
    "        return x\n",
    "    \n",
    "model= ConvAutoencoder()\n",
    "print(model)\n",
    "        "
   ]
  },
  {
   "cell_type": "code",
   "execution_count": 9,
   "metadata": {},
   "outputs": [],
   "source": [
    "criterion= nn.MSELoss()\n",
    "optimizer= torch.optim.Adam(model.parameters(), lr= 0.001)"
   ]
  },
  {
   "cell_type": "markdown",
   "metadata": {},
   "source": [
    "## Training "
   ]
  },
  {
   "cell_type": "code",
   "execution_count": 10,
   "metadata": {},
   "outputs": [
    {
     "name": "stderr",
     "output_type": "stream",
     "text": [
      "C:\\Users\\Avi\\Anaconda3\\lib\\site-packages\\torch\\nn\\functional.py:1351: UserWarning: nn.functional.sigmoid is deprecated. Use torch.sigmoid instead.\n",
      "  warnings.warn(\"nn.functional.sigmoid is deprecated. Use torch.sigmoid instead.\")\n"
     ]
    },
    {
     "name": "stdout",
     "output_type": "stream",
     "text": [
      "Epoch: 1 \tTraining loss: 0.577588\n",
      "Epoch: 2 \tTraining loss: 0.352790\n",
      "Epoch: 3 \tTraining loss: 0.313590\n",
      "Epoch: 4 \tTraining loss: 0.292680\n",
      "Epoch: 5 \tTraining loss: 0.282570\n",
      "Epoch: 6 \tTraining loss: 0.276656\n",
      "Epoch: 7 \tTraining loss: 0.272587\n",
      "Epoch: 8 \tTraining loss: 0.269555\n",
      "Epoch: 9 \tTraining loss: 0.267311\n",
      "Epoch: 10 \tTraining loss: 0.264828\n",
      "Epoch: 11 \tTraining loss: 0.262541\n",
      "Epoch: 12 \tTraining loss: 0.260985\n",
      "Epoch: 13 \tTraining loss: 0.259682\n",
      "Epoch: 14 \tTraining loss: 0.258533\n",
      "Epoch: 15 \tTraining loss: 0.257493\n",
      "Epoch: 16 \tTraining loss: 0.256575\n",
      "Epoch: 17 \tTraining loss: 0.255719\n",
      "Epoch: 18 \tTraining loss: 0.254899\n",
      "Epoch: 19 \tTraining loss: 0.254138\n",
      "Epoch: 20 \tTraining loss: 0.253433\n"
     ]
    }
   ],
   "source": [
    "epochs= 20\n",
    "for epoch in range(epochs):\n",
    "    train_loss= 0.0\n",
    "    \n",
    "    for images, _ in train_loader:\n",
    "        optimizer.zero_grad()\n",
    "        output= model(images)\n",
    "        loss= criterion(output, images)\n",
    "        loss.backward()\n",
    "        optimizer.step()\n",
    "        train_loss+= loss.item()*images.size(0)\n",
    "    train_loss= train_loss/ len(train_loader)\n",
    "    print(\"Epoch: {} \\tTraining loss: {:.6f}\".format(epoch+1, train_loss))"
   ]
  },
  {
   "cell_type": "markdown",
   "metadata": {},
   "source": [
    "## Testing and Visualizing results"
   ]
  },
  {
   "cell_type": "code",
   "execution_count": 21,
   "metadata": {},
   "outputs": [
    {
     "data": {
      "image/png": "[encoded data removed]",
      "text/plain": [
       "<Figure size 1800x288 with 20 Axes>"
      ]
     },
     "metadata": {
      "needs_background": "light"
     },
     "output_type": "display_data"
    }
   ],
   "source": [
    "# obtain one batch of test images\n",
    "dataiter = iter(test_loader)\n",
    "images, labels = dataiter.next()\n",
    "\n",
    "# get sample outputs\n",
    "output = model(images)\n",
    "# prep images for display\n",
    "images = images.numpy()\n",
    "\n",
    "# output is resized into a batch of iages\n",
    "output = output.view(batch_size, 1, 28, 28)\n",
    "# use detach when it's an output that requires_grad\n",
    "output = output.detach().numpy()\n",
    "\n",
    "# plot the first ten input images and then reconstructed images\n",
    "fig, axes = plt.subplots(nrows=2, ncols=10, sharex=True, sharey=True, figsize=(25,4))\n",
    "\n",
    "# input images on top row, reconstructions on bottom\n",
    "for images, row in zip([images, output], axes):\n",
    "    for img, ax in zip(images, row):\n",
    "        ax.imshow(np.squeeze(img), cmap='gray')\n",
    "        ax.get_xaxis().set_visible(False)\n",
    "        ax.get_yaxis().set_visible(False)"
   ]
  },
  {
   "cell_type": "markdown",
   "metadata": {},
   "source": [
    "These perform better than the __Linear Autoencoders__ but the generated images are not smooth around the corners. These results can be improved by using __Upsampling__ instead of transpose convolutional layers during decoding."
   ]
  },
  {
   "cell_type": "markdown",
   "metadata": {},
   "source": [
    "## Convolutional autoencoder using Upsampling"
   ]
  },
  {
   "cell_type": "code",
   "execution_count": 22,
   "metadata": {},
   "outputs": [
    {
     "name": "stdout",
     "output_type": "stream",
     "text": [
      "Autoencoders_upsampling(\n",
      "  (conv1): Conv2d(1, 16, kernel_size=(3, 3), stride=(1, 1), padding=(1, 1))\n",
      "  (conv2): Conv2d(16, 4, kernel_size=(3, 3), stride=(1, 1), padding=(1, 1))\n",
      "  (conv3): Conv2d(4, 16, kernel_size=(3, 3), stride=(1, 1), padding=(1, 1))\n",
      "  (conv4): Conv2d(16, 1, kernel_size=(3, 3), stride=(1, 1), padding=(1, 1))\n",
      "  (pool): MaxPool2d(kernel_size=2, stride=2, padding=0, dilation=1, ceil_mode=False)\n",
      ")\n"
     ]
    }
   ],
   "source": [
    "class Autoencoders_upsampling(nn.Module):\n",
    "    def __init__(self):\n",
    "        super(Autoencoders_upsampling, self).__init__()\n",
    "        self.conv1= nn.Conv2d(1, 16, 3, padding= 1)\n",
    "        self.conv2= nn.Conv2d(16, 4, 3, padding= 1)\n",
    "        self.conv3= nn.Conv2d(4, 16, 3, padding= 1)\n",
    "        self.conv4= nn.Conv2d(16, 1, 3, padding= 1)\n",
    "        self.pool= nn.MaxPool2d(2,2)\n",
    "    def forward(self, x):\n",
    "        x= self.pool(f.relu(self.conv1(x)))\n",
    "        x= self.pool(f.relu(self.conv2(x)))\n",
    "        x= f.upsample(x, scale_factor= 2, mode='nearest')\n",
    "        x= f.relu(self.conv3(x))\n",
    "        x= f.upsample(x, scale_factor= 2, mode='nearest')\n",
    "        x= f.sigmoid(self.conv4(x))\n",
    "        return x\n",
    "    \n",
    "model_upsample= Autoencoders_upsampling()\n",
    "print(model_upsample)"
   ]
  },
  {
   "cell_type": "code",
   "execution_count": 23,
   "metadata": {},
   "outputs": [],
   "source": [
    "criterion= nn.MSELoss()\n",
    "optimizer= torch.optim.Adam(model_upsample.parameters(), lr= 0.001)"
   ]
  },
  {
   "cell_type": "code",
   "execution_count": null,
   "metadata": {},
   "outputs": [],
   "source": []
  },
  {
   "cell_type": "code",
   "execution_count": 24,
   "metadata": {
    "scrolled": true
   },
   "outputs": [
    {
     "name": "stdout",
     "output_type": "stream",
     "text": [
      "Epoch: 1 \tTraining loss: 0.316961\n",
      "Epoch: 2 \tTraining loss: 0.155340\n",
      "Epoch: 3 \tTraining loss: 0.139751\n",
      "Epoch: 4 \tTraining loss: 0.132654\n",
      "Epoch: 5 \tTraining loss: 0.128682\n",
      "Epoch: 6 \tTraining loss: 0.125851\n",
      "Epoch: 7 \tTraining loss: 0.123569\n",
      "Epoch: 8 \tTraining loss: 0.121355\n",
      "Epoch: 9 \tTraining loss: 0.119355\n",
      "Epoch: 10 \tTraining loss: 0.117797\n",
      "Epoch: 11 \tTraining loss: 0.116400\n",
      "Epoch: 12 \tTraining loss: 0.115224\n",
      "Epoch: 13 \tTraining loss: 0.114123\n",
      "Epoch: 14 \tTraining loss: 0.113183\n",
      "Epoch: 15 \tTraining loss: 0.112393\n",
      "Epoch: 16 \tTraining loss: 0.111723\n",
      "Epoch: 17 \tTraining loss: 0.111126\n",
      "Epoch: 18 \tTraining loss: 0.110616\n",
      "Epoch: 19 \tTraining loss: 0.110185\n",
      "Epoch: 20 \tTraining loss: 0.109807\n"
     ]
    }
   ],
   "source": [
    "epochs= 20\n",
    "for epoch in range(epochs):\n",
    "    train_loss= 0.0\n",
    "    \n",
    "    for images, _ in train_loader:\n",
    "        optimizer.zero_grad()\n",
    "        output= model_upsample(images)\n",
    "        loss= criterion(output, images)\n",
    "        loss.backward()\n",
    "        optimizer.step()\n",
    "        train_loss+= loss.item()*images.size(0)\n",
    "    train_loss= train_loss/ len(train_loader)\n",
    "    print(\"Epoch: {} \\tTraining loss: {:.6f}\".format(epoch+1, train_loss))"
   ]
  },
  {
   "cell_type": "markdown",
   "metadata": {},
   "source": [
    "## Visualizing and comparing results"
   ]
  },
  {
   "cell_type": "code",
   "execution_count": 28,
   "metadata": {},
   "outputs": [
    {
     "data": {
      "image/png": "[encoded data removed]",
      "text/plain": [
       "<Figure size 1800x288 with 30 Axes>"
      ]
     },
     "metadata": {
      "needs_background": "light"
     },
     "output_type": "display_data"
    }
   ],
   "source": [
    "# obtain one batch of test images\n",
    "dataiter = iter(test_loader)\n",
    "images, labels = dataiter.next()\n",
    "\n",
    "# get sample outputs\n",
    "output1 = model(images)\n",
    "output2 = model_upsample(images)\n",
    "# prep images for display\n",
    "images = images.numpy()\n",
    "\n",
    "# output is resized into a batch of iages\n",
    "output1 = output1.view(batch_size, 1, 28, 28)\n",
    "output2 = output2.view(batch_size, 1, 28, 28)\n",
    "\n",
    "output1 = output1.detach().numpy()\n",
    "output2 = output2.detach().numpy()\n",
    "\n",
    "# plot the first ten input images and then reconstructed images\n",
    "fig, axes = plt.subplots(nrows=3, ncols=10, sharex=True, sharey=True, figsize=(25,4))\n",
    "\n",
    "# input images on top row, reconstructions on bottom\n",
    "for images, row in zip([images, output1, output2], axes):\n",
    "    for img, ax in zip(images, row):\n",
    "        ax.imshow(np.squeeze(img), cmap='gray')\n",
    "        ax.get_xaxis().set_visible(False)\n",
    "        ax.get_yaxis().set_visible(False)"
   ]
  },
  {
   "cell_type": "code",
   "execution_count": null,
   "metadata": {},
   "outputs": [],
   "source": []
  }
 ],
 "metadata": {
  "kernelspec": {
   "display_name": "Python 3",
   "language": "python",
   "name": "python3"
  },
  "language_info": {
   "codemirror_mode": {
    "name": "ipython",
    "version": 3
   },
   "file_extension": ".py",
   "mimetype": "text/x-python",
   "name": "python",
   "nbconvert_exporter": "python",
   "pygments_lexer": "ipython3",
   "version": "3.7.4"
  }
 },
 "nbformat": 4,
 "nbformat_minor": 4
}
